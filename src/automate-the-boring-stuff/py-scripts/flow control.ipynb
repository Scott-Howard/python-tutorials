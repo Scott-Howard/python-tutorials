{
 "cells": [
  {
   "cell_type": "markdown",
   "metadata": {},
   "source": [
    "# Assign vs Equal to\n",
    "\n",
    "= is assign a variable\n",
    "== is check if lhs is equal to RHS"
   ]
  },
  {
   "cell_type": "markdown",
   "metadata": {},
   "source": [
    "# Binary Booleans\n",
    "\n",
    "## AND Operator\n",
    "**and**\n",
    "output is true if both are true  \n",
    "  \n",
    "|Input 1 | Input 2 | Output|  \n",
    "|:--|:--|--:|  \n",
    "|1|1|1|  \n",
    "|1|0|0|  \n",
    "|0|1|0|  \n",
    "|0|1|1|  \n",
    "\n",
    "## OR Operator\n",
    "**or**\n",
    "\n",
    "output is true if either is true\n",
    "\n",
    "|Input 1 | Input 2 | Output|  \n",
    "|:--|:--|--:|  \n",
    "|1|1|1|  \n",
    "|1|0|1|  \n",
    "|0|1|1|  \n",
    "|0|1|1|  \n",
    "\n",
    "## NOT Operator\n",
    "\n",
    "**not**\n",
    "output is true if either is true\n",
    "\n",
    "|Input 1 | Output|  \n",
    "|:--|--:|  \n",
    "|1|1| \n",
    "|1|0|  \n",
    "|0|1|  \n",
    "|0|1|  "
   ]
  },
  {
   "cell_type": "code",
   "execution_count": 3,
   "metadata": {},
   "outputs": [
    {
     "name": "stdout",
     "output_type": "stream",
     "text": [
      "Hello Mary\n",
      "Check for Caps Lock\n"
     ]
    }
   ],
   "source": [
    "## Example flow control\n",
    "name = 'Mary'\n",
    "password = \"Swordfish\"\n",
    "if name == \"Mary\":\n",
    "    print('Hello Mary')\n",
    "    if password == 'swordfish':\n",
    "        print('Acces Granted')\n",
    "    elif password == 'Swordfish':\n",
    "        print('Check for Caps Lock')\n",
    "    else:\n",
    "        print('Wrong Password')\n"
   ]
  },
  {
   "cell_type": "markdown",
   "metadata": {},
   "source": [
    "# Loops  \n",
    "\n",
    "## While loops  \n",
    "\n",
    "### Pseudocode  \n",
    "\n",
    "while condition is true:\n",
    "    while clause (code block)\n",
    "\n",
    "\n",
    "can require a counter initilaised and then incremented in loop\n",
    "or a variable that can change state etc to end the loop\n"
   ]
  },
  {
   "cell_type": "code",
   "execution_count": 2,
   "metadata": {},
   "outputs": [
    {
     "name": "stdout",
     "output_type": "stream",
     "text": [
      "please type your name\n",
      "test'\n",
      "please type your name\n",
      "test\n",
      "please type your name\n",
      "your\n",
      "please type your name\n",
      "your name\n",
      "Thankyou\n"
     ]
    }
   ],
   "source": [
    "name = ''  #inititalise a var\n",
    "while name != 'your name': #condition that wehen trued ends  loop\n",
    "    print('please type your name') #code block tab or 4 spaces in\n",
    "    name = input()\n",
    "    print(name)\n",
    "print('Thankyou') # code bloack is ended "
   ]
  },
  {
   "cell_type": "markdown",
   "metadata": {},
   "source": [
    "## Break Statements  \n",
    "\n",
    "will escape you from the loop"
   ]
  },
  {
   "cell_type": "code",
   "execution_count": 4,
   "metadata": {},
   "outputs": [
    {
     "name": "stdout",
     "output_type": "stream",
     "text": [
      "please type your name\n",
      "ed\n",
      "please type your name\n",
      "your name\n",
      "Thankyou\n"
     ]
    }
   ],
   "source": [
    "while True: #condition that wehen trued ends  loop\n",
    "    print('please type your name') #code block tab or 4 spaces in\n",
    "    name = input()\n",
    "    print(name)\n",
    "    if name == 'your name':\n",
    "        break\n",
    "print('Thankyou') # code bloack is ended "
   ]
  },
  {
   "cell_type": "markdown",
   "metadata": {},
   "source": [
    "## Continue Statements  \n",
    "  \n",
    "Also used inside loops.  \n",
    "if a continue statement is reached, it will jump to the start of the next loop.\n",
    "\n",
    "The loop below ias infinite, the state is never changed and even with the rightr input it is never "
   ]
  },
  {
   "cell_type": "code",
   "execution_count": null,
   "metadata": {},
   "outputs": [
    {
     "name": "stdout",
     "output_type": "stream",
     "text": [
      "Wo are you?\n",
      "Wo are you?\n",
      "Hello, Joe. What is your password\n",
      "Wo are you?\n",
      "Hello, Joe. What is your password\n",
      "Acces Granted\n",
      "Access Granted\n"
     ]
    }
   ],
   "source": [
    "while True:\n",
    "    print('Wo are you?')\n",
    "    name = input()\n",
    "    if name != 'Joe':\n",
    "        continue\n",
    "    print('Hello, Joe. What is your password')\n",
    "    password = input()\n",
    "    if password == 'fish':\n",
    "        break\n",
    "print('Access Granted')"
   ]
  },
  {
   "cell_type": "markdown",
   "metadata": {},
   "source": [
    "## For loops and range function  \n",
    "  \n",
    "for loops iterate over a nuber of steps"
   ]
  },
  {
   "cell_type": "code",
   "execution_count": 8,
   "metadata": {},
   "outputs": [
    {
     "name": "stdout",
     "output_type": "stream",
     "text": [
      "my name is...\n",
      "Malachai 1 times\n",
      "Malachai 2 times\n",
      "Malachai 3 times\n",
      "Malachai 4 times\n",
      "Malachai 5 times\n",
      "Malachai 6 times\n",
      "Malachai 7 times\n",
      "Malachai 8 times\n"
     ]
    }
   ],
   "source": [
    "print('my name is...')\n",
    "name = input()\n",
    "for i in range(len(name)):\n",
    "    print(name + ' ' + str(i+1) + ' times')"
   ]
  },
  {
   "cell_type": "code",
   "execution_count": 9,
   "metadata": {},
   "outputs": [
    {
     "name": "stdout",
     "output_type": "stream",
     "text": [
      "my name is...\n",
      "beddy b times\n",
      "beddy e times\n",
      "beddy d times\n",
      "beddy d times\n",
      "beddy y times\n"
     ]
    }
   ],
   "source": [
    "print('my name is...')\n",
    "name = input()\n",
    "for letter in name:\n",
    "    print(name + ' ' + letter + ' times')"
   ]
  },
  {
   "cell_type": "code",
   "execution_count": 13,
   "metadata": {},
   "outputs": [
    {
     "name": "stdout",
     "output_type": "stream",
     "text": [
      "5050\n"
     ]
    }
   ],
   "source": [
    "# add numbers to 100\n",
    "total = 0\n",
    "for num in range(101):\n",
    "    total = total + num\n",
    "    # print(total) # used for testing\n",
    "print(total)"
   ]
  },
  {
   "cell_type": "markdown",
   "metadata": {},
   "source": [
    "## Range - Start, stop and step\n",
    "\n",
    "range(start, up but not including stop, increment to step)\n",
    "\n",
    "can count down as well as up"
   ]
  },
  {
   "cell_type": "code",
   "execution_count": null,
   "metadata": {},
   "outputs": [
    {
     "name": "stdout",
     "output_type": "stream",
     "text": [
      "12\n",
      "13\n",
      "14\n",
      "15\n"
     ]
    }
   ],
   "source": [
    "for i in range(12,16): #default is 1 step\n",
    "    print(i)"
   ]
  },
  {
   "cell_type": "code",
   "execution_count": 15,
   "metadata": {},
   "outputs": [
    {
     "name": "stdout",
     "output_type": "stream",
     "text": [
      "0\n",
      "2\n",
      "4\n",
      "6\n",
      "8\n"
     ]
    }
   ],
   "source": [
    "for i in range(0,10,2):\n",
    "    print(i) "
   ]
  },
  {
   "cell_type": "code",
   "execution_count": 16,
   "metadata": {},
   "outputs": [
    {
     "name": "stdout",
     "output_type": "stream",
     "text": [
      "10\n",
      "8\n",
      "6\n",
      "4\n",
      "2\n",
      "0\n"
     ]
    }
   ],
   "source": [
    "for i in range(10,-2,-2):\n",
    "    print(i) "
   ]
  },
  {
   "cell_type": "markdown",
   "metadata": {},
   "source": [
    "## Importing modules (standard)\n",
    "\n",
    "https://docs.python.org/3/library/index.html\n",
    "\n",
    "can import multiple at once"
   ]
  },
  {
   "cell_type": "code",
   "execution_count": null,
   "metadata": {},
   "outputs": [],
   "source": [
    "import random,sys,os,math #import multiple at once"
   ]
  },
  {
   "cell_type": "code",
   "execution_count": 21,
   "metadata": {},
   "outputs": [
    {
     "name": "stdout",
     "output_type": "stream",
     "text": [
      "7\n",
      "6\n",
      "4\n",
      "3\n",
      "7\n"
     ]
    }
   ],
   "source": [
    "import random as ra #adding an alias\n",
    "ra.seed(41)\n",
    "for i in range(5):\n",
    "    print(ra.randint(1,10))"
   ]
  },
  {
   "cell_type": "markdown",
   "metadata": {},
   "source": [
    "## from import statements\n",
    "\n",
    "from module * will import all of the functions but not need module.funtion()\n",
    "\n",
    "recommended to not do it this way so code is readable"
   ]
  },
  {
   "cell_type": "code",
   "execution_count": 37,
   "metadata": {},
   "outputs": [
    {
     "name": "stdout",
     "output_type": "stream",
     "text": [
      "I am thinking of a number between 1 and 100\n",
      "make a guess, or type exit to quit\n",
      "50\n",
      "Too high!\n",
      "make a guess, or type exit to quit\n"
     ]
    },
    {
     "ename": "SystemExit",
     "evalue": "",
     "output_type": "error",
     "traceback": [
      "An exception has occurred, use %tb to see the full traceback.\n",
      "\u001b[1;31mSystemExit\u001b[0m\n"
     ]
    },
    {
     "name": "stderr",
     "output_type": "stream",
     "text": [
      "c:\\hvccctools\\Automate\\.venv\\Lib\\site-packages\\IPython\\core\\interactiveshell.py:3585: UserWarning: To exit: use 'exit', 'quit', or Ctrl-D.\n",
      "  warn(\"To exit: use 'exit', 'quit', or Ctrl-D.\", stacklevel=1)\n"
     ]
    }
   ],
   "source": [
    "# number guesser\n",
    "import random as ra\n",
    "import sys\n",
    "\n",
    "#print('Enter lower bound')\n",
    "lower = 1 #int(input())\n",
    "#print('Enter upper bound')\n",
    "upper = 100 #int(input())\n",
    "print('I am thinking of a number between ' + str(lower) + \" and \" + str(upper) )\n",
    "number = ra.randint(lower, upper)\n",
    "guess = 0\n",
    "count = 0\n",
    "while guess != number:\n",
    "    print('make a guess, or type exit to quit')\n",
    "    str_guess = input()\n",
    "    if str_guess == 'exit':\n",
    "        sys.exit()\n",
    "    guess = int(str_guess)\n",
    "    print(guess)\n",
    "    count = count +1\n",
    "    if guess == number:\n",
    "        print('That is correct!')\n",
    "        break\n",
    "    elif guess > number:\n",
    "        print('Too high!')\n",
    "        continue\n",
    "    elif guess < number:\n",
    "        print('Too low!')\n",
    "        continue\n",
    "print(str(count) + ' guesses were needed.')\n",
    "\n"
   ]
  },
  {
   "cell_type": "code",
   "execution_count": null,
   "metadata": {},
   "outputs": [],
   "source": []
  }
 ],
 "metadata": {
  "kernelspec": {
   "display_name": ".venv",
   "language": "python",
   "name": "python3"
  },
  "language_info": {
   "codemirror_mode": {
    "name": "ipython",
    "version": 3
   },
   "file_extension": ".py",
   "mimetype": "text/x-python",
   "name": "python",
   "nbconvert_exporter": "python",
   "pygments_lexer": "ipython3",
   "version": "3.12.3"
  }
 },
 "nbformat": 4,
 "nbformat_minor": 2
}
